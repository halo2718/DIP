{
 "cells": [
  {
   "cell_type": "code",
   "execution_count": 3,
   "metadata": {},
   "outputs": [
    {
     "name": "stdout",
     "output_type": "stream",
     "text": [
      "<class 'numpy.ndarray'>\n"
     ]
    }
   ],
   "source": [
    "import matplotlib.image as mp\n",
    "import numpy as np\n",
    "\n",
    "path = \"jiao.jpg\"\n",
    "img = mp.imread(path)\n",
    "print(type(img))"
   ]
  },
  {
   "cell_type": "code",
   "execution_count": 4,
   "metadata": {},
   "outputs": [
    {
     "name": "stdout",
     "output_type": "stream",
     "text": [
      "(4000, 6000, 3)\n"
     ]
    }
   ],
   "source": [
    "print(img.shape)"
   ]
  },
  {
   "cell_type": "code",
   "execution_count": 3,
   "metadata": {},
   "outputs": [],
   "source": [
    "def incr_contr(point):\n",
    "    t_value = int(2*(point-127)+127)\n",
    "    if t_value < 0:\n",
    "        return 0\n",
    "    elif t_value > 255:\n",
    "        return 255\n",
    "    else:\n",
    "        return t_value\n",
    "\n",
    "def process1(image):\n",
    "    height = image.shape[0]\n",
    "    width = image.shape[1]\n",
    "    result = np.zeros_like(image)\n",
    "    for i in range(height):\n",
    "        for j in range(width):\n",
    "            result[i][j][0]=incr_contr(image[i][j][0])\n",
    "            result[i][j][1]=incr_contr(image[i][j][1])\n",
    "            result[i][j][2]=incr_contr(image[i][j][2])\n",
    "    return result\n",
    "            "
   ]
  },
  {
   "cell_type": "code",
   "execution_count": 4,
   "metadata": {},
   "outputs": [],
   "source": [
    "output = process1(img)\n",
    "path_out = \"1.jpg\"\n",
    "mp.imsave(path_out,output)"
   ]
  },
  {
   "cell_type": "code",
   "execution_count": 9,
   "metadata": {},
   "outputs": [],
   "source": [
    "def gamma_compression(point,gamma):\n",
    "    return int(255*((point/255)**gamma))\n",
    "\n",
    "def process2(image):\n",
    "    height = image.shape[0]\n",
    "    width = image.shape[1]\n",
    "    result = np.zeros_like(image)\n",
    "    for i in range(height):\n",
    "        for j in range(width):\n",
    "            result[i][j][0]=gamma_compression(image[i][j][0],0.5)\n",
    "            result[i][j][1]=gamma_compression(image[i][j][1],0.5)\n",
    "            result[i][j][2]=gamma_compression(image[i][j][2],0.5)\n",
    "    return result"
   ]
  },
  {
   "cell_type": "code",
   "execution_count": 10,
   "metadata": {},
   "outputs": [],
   "source": [
    "output = process2(img)\n",
    "path_out = \"2.jpg\"\n",
    "mp.imsave(path_out,output)"
   ]
  },
  {
   "cell_type": "code",
   "execution_count": 44,
   "metadata": {},
   "outputs": [],
   "source": [
    "def process3(image):\n",
    "    height = image.shape[0]\n",
    "    width = image.shape[1]\n",
    "    result = np.zeros_like(image)\n",
    "    for i in range(height):\n",
    "        for j in range(width):\n",
    "            avg = int(0.3*image[i][j][0]+0.59*image[i][j][1]+0.11*image[i][j][2])\n",
    "            result[i][j][0]=avg\n",
    "            result[i][j][1]=avg\n",
    "            result[i][j][2]=avg\n",
    "    return result"
   ]
  },
  {
   "cell_type": "code",
   "execution_count": 45,
   "metadata": {},
   "outputs": [],
   "source": [
    "output = process3(img)\n",
    "path_out = \"3.jpg\"\n",
    "mp.imsave(path_out,output)"
   ]
  },
  {
   "cell_type": "code",
   "execution_count": 18,
   "metadata": {},
   "outputs": [],
   "source": [
    "def process3a(image):\n",
    "    height = image.shape[0]\n",
    "    width = image.shape[1]\n",
    "    result = np.zeros_like(image)\n",
    "    for i in range(height):\n",
    "        for j in range(width):\n",
    "            avg = int(0.33*image[i][j][0]+0.33*image[i][j][1]+0.33*image[i][j][2])\n",
    "            result[i][j][0]=avg\n",
    "            result[i][j][1]=avg\n",
    "            result[i][j][2]=avg\n",
    "    return result"
   ]
  },
  {
   "cell_type": "code",
   "execution_count": 19,
   "metadata": {},
   "outputs": [],
   "source": [
    "output = process3a(img)\n",
    "path_out = \"3a.jpg\"\n",
    "mp.imsave(path_out,output)"
   ]
  },
  {
   "cell_type": "code",
   "execution_count": 5,
   "metadata": {},
   "outputs": [],
   "source": [
    "def process4(image):\n",
    "    height = image.shape[0]\n",
    "    width = image.shape[1]\n",
    "    result = np.zeros_like(image)\n",
    "    for i in range(height):\n",
    "        for j in range(width):\n",
    "            r = image[i][j][0]\n",
    "            g = image[i][j][1]\n",
    "            b = image[i][j][2]\n",
    "            result[i][j][0]=min(255,int(0.393 * r + 0.769 * g + 0.189 * b))\n",
    "            result[i][j][1]=min(255,int(0.349 * r + 0.686 * g + 0.168 * b))\n",
    "            result[i][j][2]=min(255,int(0.272 * r + 0.534 * g + 0.131 * b))\n",
    "    return result"
   ]
  },
  {
   "cell_type": "code",
   "execution_count": 8,
   "metadata": {},
   "outputs": [],
   "source": [
    "output = process4(img)\n",
    "path_out = \"4.jpg\"\n",
    "mp.imsave(path_out,output)"
   ]
  },
  {
   "cell_type": "code",
   "execution_count": 6,
   "metadata": {},
   "outputs": [],
   "source": [
    "def process4a(image):\n",
    "    height = image.shape[0]\n",
    "    width = image.shape[1]\n",
    "    result = np.zeros_like(image)\n",
    "    for i in range(height):\n",
    "        for j in range(width):\n",
    "            r = image[i][j][0]\n",
    "            g = image[i][j][1]\n",
    "            b = image[i][j][2]\n",
    "            result[i][j][0]=min(255,int(0.4 * r + 0.8 * g + 0.2 * b))\n",
    "            result[i][j][1]=min(255,int(0.3 * r + 0.7 * g + 0.2 * b))\n",
    "            result[i][j][2]=min(255,int(0.3 * r + 0.5 * g + 0.1 * b))\n",
    "    return result"
   ]
  },
  {
   "cell_type": "code",
   "execution_count": 7,
   "metadata": {},
   "outputs": [],
   "source": [
    "output = process4a(img)\n",
    "path_out = \"4a.jpg\"\n",
    "mp.imsave(path_out,output)"
   ]
  },
  {
   "cell_type": "code",
   "execution_count": 8,
   "metadata": {},
   "outputs": [],
   "source": [
    "def process6(image):\n",
    "    height = image.shape[0]\n",
    "    width = image.shape[1]\n",
    "    result = np.zeros_like(image)\n",
    "    for i in range(height):\n",
    "        for j in range(width):\n",
    "            r = image[i][j][0]\n",
    "            g = image[i][j][1]\n",
    "            b = image[i][j][2] \n",
    "            result[i][j][0]=255-r\n",
    "            result[i][j][1]=255-g \n",
    "            result[i][j][2]=255-b  \n",
    "    return result"
   ]
  },
  {
   "cell_type": "code",
   "execution_count": 9,
   "metadata": {},
   "outputs": [],
   "source": [
    "output = process6(img)\n",
    "path_out = \"6.jpg\"\n",
    "mp.imsave(path_out,output)"
   ]
  },
  {
   "cell_type": "code",
   "execution_count": 3,
   "metadata": {},
   "outputs": [],
   "source": [
    "def b_hist(image):\n",
    "    height = image.shape[0]\n",
    "    width = image.shape[1]\n",
    "    result = np.zeros((256,))\n",
    "    for i in range(height):\n",
    "        for j in range(width):\n",
    "            result[image[i][j][2]]+=1\n",
    "    return result\n",
    "\n",
    "def r_hist(image):\n",
    "    height = image.shape[0]\n",
    "    width = image.shape[1]\n",
    "    result = np.zeros((256,))\n",
    "    for i in range(height):\n",
    "        for j in range(width):\n",
    "            result[image[i][j][0]]+=1\n",
    "    return result\n",
    "\n",
    "def g_hist(image):\n",
    "    height = image.shape[0]\n",
    "    width = image.shape[1]\n",
    "    result = np.zeros((256,))\n",
    "    for i in range(height):\n",
    "        for j in range(width):\n",
    "            result[image[i][j][1]]+=1\n",
    "    return result"
   ]
  },
  {
   "cell_type": "code",
   "execution_count": 4,
   "metadata": {},
   "outputs": [],
   "source": [
    "def cumulative_hist(hist,size):\n",
    "    result = np.zeros((256,))\n",
    "    tot = 0\n",
    "    for i in range(256):\n",
    "        tot += hist[i]\n",
    "        result[i] = tot*1.0/size\n",
    "    return result\n",
    "\n",
    "def hist_matching(src,trg):\n",
    "    result = np.zeros((256,))\n",
    "    for i in range(256):\n",
    "        for j in range(256):\n",
    "            if src[i]<=trg[j] or j==255:\n",
    "                result[i]=j\n",
    "                break\n",
    "    return result"
   ]
  },
  {
   "cell_type": "code",
   "execution_count": 5,
   "metadata": {},
   "outputs": [],
   "source": [
    "trg = mp.imread(\"star.jpg\")"
   ]
  },
  {
   "cell_type": "code",
   "execution_count": 6,
   "metadata": {},
   "outputs": [],
   "source": [
    "src_r = r_hist(img)\n",
    "src_g = g_hist(img)\n",
    "src_b = b_hist(img)\n",
    "\n",
    "trg_r = r_hist(trg)\n",
    "trg_g = g_hist(trg)\n",
    "trg_b = b_hist(trg)"
   ]
  },
  {
   "cell_type": "code",
   "execution_count": 7,
   "metadata": {},
   "outputs": [],
   "source": [
    "size1 = img.shape[0]*img.shape[1]\n",
    "size2 = trg.shape[0]*trg.shape[1]\n",
    "\n",
    "csrc_r = cumulative_hist(src_r,size1)\n",
    "csrc_g = cumulative_hist(src_g,size1)\n",
    "csrc_b = cumulative_hist(src_b,size1)\n",
    "\n",
    "ctrg_r = cumulative_hist(trg_r,size2)\n",
    "ctrg_g = cumulative_hist(trg_g,size2)\n",
    "ctrg_b = cumulative_hist(trg_b,size2)"
   ]
  },
  {
   "cell_type": "code",
   "execution_count": 8,
   "metadata": {},
   "outputs": [
    {
     "data": {
      "text/plain": [
       "[<matplotlib.lines.Line2D at 0x2b4c5e73d48>]"
      ]
     },
     "execution_count": 8,
     "metadata": {},
     "output_type": "execute_result"
    },
    {
     "data": {
      "image/png": "[encoded data removed]",
      "text/plain": [
       "<Figure size 432x288 with 1 Axes>"
      ]
     },
     "metadata": {
      "needs_background": "light"
     },
     "output_type": "display_data"
    }
   ],
   "source": [
    "import matplotlib.pyplot as plt\n",
    "%matplotlib inline\n",
    "x=np.arange(256)\n",
    "plt.plot(x,csrc_r,color=\"red\")\n",
    "plt.plot(x,csrc_g,color=\"green\")\n",
    "plt.plot(x,csrc_b,color=\"blue\")"
   ]
  },
  {
   "cell_type": "code",
   "execution_count": 9,
   "metadata": {},
   "outputs": [
    {
     "data": {
      "text/plain": [
       "[<matplotlib.lines.Line2D at 0x2b4c5f20dc8>]"
      ]
     },
     "execution_count": 9,
     "metadata": {},
     "output_type": "execute_result"
    },
    {
     "data": {
      "image/png": "[encoded data removed]",
      "text/plain": [
       "<Figure size 432x288 with 1 Axes>"
      ]
     },
     "metadata": {
      "needs_background": "light"
     },
     "output_type": "display_data"
    }
   ],
   "source": [
    "x=np.arange(256)\n",
    "plt.plot(x,ctrg_r,color=\"red\")\n",
    "plt.plot(x,ctrg_g,color=\"green\")\n",
    "plt.plot(x,ctrg_b,color=\"blue\")"
   ]
  },
  {
   "cell_type": "code",
   "execution_count": 10,
   "metadata": {},
   "outputs": [],
   "source": [
    "r_LUT = hist_matching(csrc_r,ctrg_r)\n",
    "g_LUT = hist_matching(csrc_g,ctrg_g)\n",
    "b_LUT = hist_matching(csrc_b,ctrg_b)"
   ]
  },
  {
   "cell_type": "code",
   "execution_count": 11,
   "metadata": {},
   "outputs": [],
   "source": [
    "def calc(LUT,point):\n",
    "    return LUT[point]\n",
    "\n",
    "def process5(image):\n",
    "    height = image.shape[0]\n",
    "    width = image.shape[1]\n",
    "    result = np.zeros_like(image)\n",
    "    for i in range(height):\n",
    "        for j in range(width):\n",
    "            result[i][j][0] = calc(r_LUT,image[i][j][0])\n",
    "            result[i][j][1] = calc(g_LUT,image[i][j][1])\n",
    "            result[i][j][2] = calc(b_LUT,image[i][j][2])\n",
    "    return result   "
   ]
  },
  {
   "cell_type": "code",
   "execution_count": null,
   "metadata": {},
   "outputs": [],
   "source": []
  },
  {
   "cell_type": "code",
   "execution_count": null,
   "metadata": {},
   "outputs": [],
   "source": []
  },
  {
   "cell_type": "code",
   "execution_count": 12,
   "metadata": {},
   "outputs": [
    {
     "name": "stdout",
     "output_type": "stream",
     "text": [
      "[  0.   0.   0.   0.   0.   0.   0.   0.   0.   0.   0.   0.   0.   0.\n",
      "   0.   0.   0.   0.   0.   0.   0.   0.   0.   0.   0.   0.   0.   0.\n",
      "   0.   0.   0.   0.   0.   0.   0.   0.   0.   0.   0.   0.   0.   0.\n",
      "   0.   0.   0.   0.   1.   1.   2.   2.   2.   3.   3.   3.   3.   4.\n",
      "   4.   4.   4.   5.   5.   5.   5.   6.   6.   6.   6.   7.   7.   7.\n",
      "   7.   8.   8.   8.   8.   9.   9.   9.  10.  10.  10.  10.  11.  11.\n",
      "  11.  12.  12.  12.  12.  13.  13.  13.  13.  14.  14.  14.  15.  15.\n",
      "  15.  16.  16.  16.  17.  17.  17.  18.  18.  19.  19.  20.  20.  20.\n",
      "  21.  21.  22.  22.  22.  23.  23.  24.  25.  25.  26.  27.  27.  28.\n",
      "  29.  29.  30.  31.  32.  32.  33.  34.  35.  36.  36.  37.  38.  39.\n",
      "  40.  41.  42.  43.  45.  46.  47.  48.  49.  50.  50.  51.  52.  53.\n",
      "  54.  55.  56.  57.  58.  59.  60.  61.  62.  63.  64.  65.  66.  67.\n",
      "  68.  69.  70.  71.  72.  73.  74.  76.  77.  78.  79.  80.  81.  82.\n",
      "  83.  84.  85.  86.  87.  88.  89.  90.  91.  92.  93.  95.  96.  97.\n",
      "  98. 100. 101. 103. 104. 106. 108. 110. 113. 115. 118. 122. 126. 130.\n",
      " 135. 140. 146. 151. 156. 160. 164. 168. 172. 176. 180. 184. 188. 193.\n",
      " 198. 201. 205. 211. 217. 222. 226. 228. 232. 235. 237. 239. 241. 242.\n",
      " 244. 245. 246. 247. 247. 248. 248. 249. 249. 250. 251. 251. 252. 253.\n",
      " 254. 255. 255. 255.] [  0.   0.   0.   0.   0.   0.   0.   0.   0.   0.   0.   0.   0.   0.\n",
      "   0.   0.   0.   0.   0.   1.   1.   2.   2.   3.   3.   4.   4.   4.\n",
      "   5.   5.   6.   6.   7.   7.   7.   8.   8.   9.   9.   9.  10.  10.\n",
      "  10.  11.  11.  11.  12.  12.  12.  12.  13.  13.  13.  14.  14.  14.\n",
      "  14.  14.  15.  15.  15.  15.  15.  16.  16.  16.  16.  16.  17.  17.\n",
      "  17.  17.  17.  17.  18.  18.  18.  18.  18.  18.  19.  19.  19.  19.\n",
      "  19.  19.  20.  20.  20.  20.  20.  20.  21.  21.  21.  21.  21.  22.\n",
      "  22.  22.  22.  23.  23.  23.  24.  24.  24.  25.  25.  25.  26.  26.\n",
      "  26.  27.  27.  28.  28.  29.  29.  30.  30.  31.  31.  32.  33.  33.\n",
      "  34.  35.  35.  36.  37.  37.  38.  38.  39.  40.  41.  41.  42.  43.\n",
      "  44.  45.  46.  47.  48.  48.  49.  50.  51.  52.  53.  54.  54.  55.\n",
      "  56.  57.  57.  58.  59.  60.  61.  61.  62.  63.  64.  65.  65.  66.\n",
      "  67.  68.  69.  69.  70.  71.  71.  72.  73.  73.  74.  75.  75.  76.\n",
      "  77.  77.  78.  78.  79.  80.  80.  81.  81.  81.  82.  82.  83.  83.\n",
      "  83.  84.  84.  84.  85.  85.  86.  86.  87.  87.  88.  89.  90.  90.\n",
      "  91.  92.  93.  94.  96.  97.  99. 100. 103. 105. 108. 111. 114. 117.\n",
      " 120. 122. 125. 128. 131. 134. 137. 140. 142. 145. 148. 150. 153. 157.\n",
      " 160. 164. 167. 170. 174. 178. 183. 187. 193. 201. 212. 222. 232. 241.\n",
      " 249. 255. 255. 255.] [  5.   7.   9.  10.  11.  12.  13.  14.  15.  16.  16.  17.  18.  18.\n",
      "  19.  19.  20.  20.  21.  21.  22.  22.  22.  23.  23.  24.  24.  24.\n",
      "  25.  25.  25.  26.  26.  26.  26.  27.  27.  27.  28.  28.  28.  28.\n",
      "  29.  29.  29.  30.  30.  30.  30.  31.  31.  31.  31.  32.  32.  32.\n",
      "  32.  33.  33.  33.  33.  33.  34.  34.  34.  34.  35.  35.  35.  35.\n",
      "  36.  36.  36.  36.  36.  37.  37.  37.  37.  38.  38.  38.  38.  39.\n",
      "  39.  39.  39.  40.  40.  40.  40.  40.  41.  41.  41.  41.  42.  42.\n",
      "  42.  42.  42.  43.  43.  43.  43.  44.  44.  44.  44.  45.  45.  45.\n",
      "  46.  46.  46.  47.  47.  47.  48.  48.  48.  49.  49.  49.  50.  50.\n",
      "  50.  51.  51.  52.  52.  53.  53.  54.  54.  55.  55.  56.  57.  57.\n",
      "  58.  59.  59.  60.  61.  61.  62.  63.  64.  64.  65.  66.  67.  68.\n",
      "  69.  70.  71.  72.  73.  74.  75.  76.  77.  78.  79.  80.  81.  82.\n",
      "  83.  84.  86.  87.  88.  89.  90.  91.  92.  93.  94.  94.  95.  96.\n",
      "  97.  98.  99. 100. 100. 101. 102. 103. 104. 104. 105. 106. 106. 107.\n",
      " 107. 108. 108. 109. 109. 110. 110. 111. 111. 112. 112. 112. 113. 113.\n",
      " 113. 114. 114. 114. 115. 115. 115. 116. 116. 116. 116. 117. 117. 117.\n",
      " 118. 118. 118. 118. 119. 119. 119. 119. 120. 120. 120. 120. 121. 121.\n",
      " 121. 121. 121. 121. 122. 122. 122. 122. 122. 122. 123. 123. 124. 127.\n",
      " 135. 153. 184. 255.]\n"
     ]
    }
   ],
   "source": [
    "print(r_LUT,g_LUT,b_LUT)"
   ]
  },
  {
   "cell_type": "code",
   "execution_count": 14,
   "metadata": {},
   "outputs": [],
   "source": [
    "output = process5(img)\n",
    "path_out = \"5.jpg\"\n",
    "mp.imsave(path_out,output)"
   ]
  },
  {
   "cell_type": "code",
   "execution_count": 15,
   "metadata": {},
   "outputs": [],
   "source": [
    "dst_r = r_hist(output)\n",
    "dst_g = g_hist(output)\n",
    "dst_b = b_hist(output)"
   ]
  },
  {
   "cell_type": "code",
   "execution_count": 16,
   "metadata": {},
   "outputs": [],
   "source": [
    "cdst_r = cumulative_hist(dst_r,size1)\n",
    "cdst_g = cumulative_hist(dst_g,size1)\n",
    "cdst_b = cumulative_hist(dst_b,size1)"
   ]
  },
  {
   "cell_type": "code",
   "execution_count": 17,
   "metadata": {},
   "outputs": [
    {
     "data": {
      "text/plain": [
       "[<matplotlib.lines.Line2D at 0x2b4d3791a08>]"
      ]
     },
     "execution_count": 17,
     "metadata": {},
     "output_type": "execute_result"
    },
    {
     "data": {
      "image/png": "[encoded data removed]",
      "text/plain": [
       "<Figure size 432x288 with 1 Axes>"
      ]
     },
     "metadata": {
      "needs_background": "light"
     },
     "output_type": "display_data"
    }
   ],
   "source": [
    "x=np.arange(256)\n",
    "plt.plot(x,cdst_r,color=\"red\")\n",
    "plt.plot(x,cdst_g,color=\"green\")\n",
    "plt.plot(x,cdst_b,color=\"blue\")"
   ]
  },
  {
   "cell_type": "code",
   "execution_count": 24,
   "metadata": {},
   "outputs": [],
   "source": [
    "import matplotlib.pyplot as plt\n",
    "x=np.arange(256)"
   ]
  },
  {
   "cell_type": "code",
   "execution_count": 25,
   "metadata": {},
   "outputs": [
    {
     "name": "stdout",
     "output_type": "stream",
     "text": [
      "[2.320000e+02 3.090000e+02 7.550000e+02 9.680000e+02 1.905000e+03\n",
      " 3.492000e+03 3.257000e+03 5.909000e+03 4.254900e+04 4.096600e+04\n",
      " 2.649800e+04 6.676800e+04 1.065250e+05 1.454050e+05 1.535820e+05\n",
      " 1.514700e+05 1.436250e+05 1.373090e+05 1.354080e+05 1.368140e+05\n",
      " 1.376200e+05 1.363950e+05 1.344120e+05 1.316990e+05 1.329160e+05\n",
      " 1.343470e+05 1.330540e+05 1.285980e+05 1.218760e+05 1.153030e+05\n",
      " 1.095530e+05 1.058160e+05 1.033570e+05 1.036520e+05 1.031800e+05\n",
      " 1.017680e+05 1.013070e+05 1.012470e+05 1.039930e+05 1.082560e+05\n",
      " 1.134190e+05 1.203160e+05 1.268430e+05 1.325990e+05 1.379390e+05\n",
      " 1.418680e+05 1.454250e+05 1.471070e+05 1.454450e+05 1.443900e+05\n",
      " 1.433530e+05 1.426860e+05 1.428460e+05 1.428330e+05 1.428580e+05\n",
      " 1.422860e+05 1.420270e+05 1.423020e+05 1.415870e+05 1.418780e+05\n",
      " 1.429930e+05 1.418870e+05 1.422430e+05 1.410090e+05 1.408490e+05\n",
      " 1.393390e+05 1.377490e+05 1.357120e+05 1.326810e+05 1.300460e+05\n",
      " 1.284000e+05 1.266240e+05 1.245240e+05 1.235830e+05 1.222190e+05\n",
      " 1.213220e+05 1.207430e+05 1.206110e+05 1.200130e+05 1.200660e+05\n",
      " 1.202790e+05 1.189350e+05 1.185750e+05 1.184850e+05 1.174500e+05\n",
      " 1.164010e+05 1.156270e+05 1.143780e+05 1.127580e+05 1.127570e+05\n",
      " 1.115880e+05 1.103120e+05 1.093840e+05 1.086400e+05 1.071800e+05\n",
      " 1.062870e+05 1.051060e+05 1.031710e+05 1.019500e+05 1.012090e+05\n",
      " 1.000640e+05 9.821600e+04 9.713300e+04 9.624300e+04 9.524800e+04\n",
      " 9.372900e+04 9.272700e+04 9.165000e+04 9.001000e+04 8.904400e+04\n",
      " 8.792700e+04 8.741100e+04 8.631000e+04 8.557800e+04 8.381700e+04\n",
      " 8.289100e+04 8.226000e+04 8.125500e+04 7.971200e+04 7.932900e+04\n",
      " 7.846800e+04 7.762600e+04 7.656200e+04 7.571100e+04 7.474300e+04\n",
      " 7.433800e+04 7.358300e+04 7.275800e+04 7.154900e+04 7.094100e+04\n",
      " 7.051000e+04 7.016500e+04 6.957000e+04 6.904800e+04 6.822300e+04\n",
      " 6.777300e+04 6.731700e+04 6.698300e+04 6.647300e+04 6.612500e+04\n",
      " 6.558400e+04 6.642700e+04 6.512200e+04 6.513700e+04 6.492800e+04\n",
      " 6.436200e+04 6.402300e+04 6.362600e+04 6.330600e+04 6.273800e+04\n",
      " 6.235600e+04 6.245700e+04 6.175900e+04 6.088500e+04 6.050500e+04\n",
      " 6.051500e+04 5.941700e+04 5.953800e+04 5.919900e+04 5.852500e+04\n",
      " 5.879100e+04 5.815300e+04 5.814200e+04 5.747100e+04 5.741400e+04\n",
      " 5.715300e+04 5.720400e+04 5.675900e+04 5.659700e+04 5.606900e+04\n",
      " 5.666100e+04 5.611900e+04 5.618400e+04 5.572100e+04 5.647600e+04\n",
      " 5.607500e+04 5.572800e+04 5.559200e+04 5.513700e+04 5.496200e+04\n",
      " 5.502000e+04 5.484600e+04 5.473300e+04 5.454700e+04 5.408000e+04\n",
      " 5.438400e+04 5.436000e+04 5.410400e+04 5.444500e+04 5.402800e+04\n",
      " 5.368800e+04 5.431900e+04 5.401000e+04 5.423300e+04 5.413700e+04\n",
      " 5.391200e+04 5.443400e+04 5.428400e+04 5.451700e+04 5.452500e+04\n",
      " 5.417600e+04 5.467700e+04 5.440100e+04 5.412000e+04 5.459200e+04\n",
      " 5.464300e+04 5.521500e+04 5.546500e+04 5.566000e+04 5.568700e+04\n",
      " 5.632700e+04 5.652500e+04 5.671700e+04 5.737700e+04 5.782700e+04\n",
      " 5.820700e+04 5.848600e+04 5.931900e+04 6.001800e+04 5.999000e+04\n",
      " 6.132100e+04 6.162200e+04 6.222700e+04 6.268900e+04 6.352100e+04\n",
      " 6.473600e+04 6.550700e+04 6.591700e+04 6.734500e+04 6.798600e+04\n",
      " 6.921600e+04 7.069800e+04 7.234600e+04 7.380700e+04 7.591800e+04\n",
      " 7.749400e+04 7.998900e+04 8.267900e+04 8.543600e+04 8.924000e+04\n",
      " 9.286600e+04 9.813900e+04 1.050770e+05 1.117300e+05 1.215510e+05\n",
      " 1.321130e+05 1.448180e+05 1.600980e+05 1.764470e+05 1.905430e+05\n",
      " 2.027450e+05 2.140680e+05 2.207090e+05 2.155290e+05 2.291850e+05\n",
      " 1.081629e+06]\n",
      "[1.20000e+02 2.36000e+02 7.74000e+02 1.19200e+03 2.39600e+03 4.78000e+03\n",
      " 5.37900e+03 1.01010e+04 5.15850e+04 6.48180e+04 5.28910e+04 8.70350e+04\n",
      " 1.39209e+05 1.84648e+05 1.96201e+05 1.94927e+05 1.88084e+05 1.83593e+05\n",
      " 1.80400e+05 1.76572e+05 1.74237e+05 1.70668e+05 1.68321e+05 1.68092e+05\n",
      " 1.74237e+05 1.80892e+05 1.84118e+05 1.84330e+05 1.82581e+05 1.78278e+05\n",
      " 1.75554e+05 1.74011e+05 1.72691e+05 1.73904e+05 1.75061e+05 1.75186e+05\n",
      " 1.76520e+05 1.77760e+05 1.80956e+05 1.86264e+05 1.92972e+05 1.99417e+05\n",
      " 2.06307e+05 2.11496e+05 2.17232e+05 2.21981e+05 2.22104e+05 2.21944e+05\n",
      " 2.18351e+05 2.15913e+05 2.14450e+05 2.11239e+05 2.09462e+05 2.07942e+05\n",
      " 2.05399e+05 2.01486e+05 1.97385e+05 1.94933e+05 1.91306e+05 1.88736e+05\n",
      " 1.87354e+05 1.86024e+05 1.86789e+05 1.84942e+05 1.83503e+05 1.82854e+05\n",
      " 1.80617e+05 1.77275e+05 1.73219e+05 1.69319e+05 1.65282e+05 1.61812e+05\n",
      " 1.57772e+05 1.54406e+05 1.52174e+05 1.48752e+05 1.47370e+05 1.43340e+05\n",
      " 1.42154e+05 1.39406e+05 1.37412e+05 1.35135e+05 1.32861e+05 1.31266e+05\n",
      " 1.28646e+05 1.27605e+05 1.25344e+05 1.23006e+05 1.21212e+05 1.20261e+05\n",
      " 1.17644e+05 1.16493e+05 1.14154e+05 1.12053e+05 1.10473e+05 1.08845e+05\n",
      " 1.07578e+05 1.05494e+05 1.03842e+05 1.01942e+05 1.00641e+05 9.98450e+04\n",
      " 9.82910e+04 9.67670e+04 9.57400e+04 9.43810e+04 9.35780e+04 9.24740e+04\n",
      " 9.12570e+04 9.06090e+04 8.93330e+04 8.81720e+04 8.78380e+04 8.63470e+04\n",
      " 8.59090e+04 8.46670e+04 8.36930e+04 8.23290e+04 8.21560e+04 8.09630e+04\n",
      " 8.05010e+04 7.96470e+04 7.83760e+04 7.79450e+04 7.70500e+04 7.62180e+04\n",
      " 7.49530e+04 7.48680e+04 7.37760e+04 7.34080e+04 7.26970e+04 7.13220e+04\n",
      " 7.06880e+04 7.01540e+04 6.99110e+04 6.92850e+04 6.84560e+04 6.76560e+04\n",
      " 6.75260e+04 6.68440e+04 6.63260e+04 6.65760e+04 6.62890e+04 6.56790e+04\n",
      " 6.53420e+04 6.51910e+04 6.49690e+04 6.42830e+04 6.41880e+04 6.35460e+04\n",
      " 6.34710e+04 6.31540e+04 6.35250e+04 6.32630e+04 6.29630e+04 6.24440e+04\n",
      " 6.18170e+04 6.11770e+04 6.06030e+04 6.02990e+04 5.96010e+04 5.93230e+04\n",
      " 5.89390e+04 5.81620e+04 5.81690e+04 5.84330e+04 5.82160e+04 5.81660e+04\n",
      " 5.77500e+04 5.78770e+04 5.82410e+04 5.74390e+04 5.73100e+04 5.60770e+04\n",
      " 5.56430e+04 5.44920e+04 5.43710e+04 5.34250e+04 5.33090e+04 5.32630e+04\n",
      " 5.33850e+04 5.26780e+04 5.19820e+04 5.15400e+04 5.13080e+04 5.06130e+04\n",
      " 5.07880e+04 5.01110e+04 4.97430e+04 5.01560e+04 4.96290e+04 4.87550e+04\n",
      " 4.78320e+04 4.72070e+04 4.61880e+04 4.51140e+04 4.38880e+04 4.28200e+04\n",
      " 4.19240e+04 4.10230e+04 3.98710e+04 3.94050e+04 3.86970e+04 3.78950e+04\n",
      " 3.71700e+04 3.66880e+04 3.64790e+04 3.58460e+04 3.59980e+04 3.57270e+04\n",
      " 3.62580e+04 3.62440e+04 3.59960e+04 3.61770e+04 3.59250e+04 3.55890e+04\n",
      " 3.55250e+04 3.52920e+04 3.48250e+04 3.44610e+04 3.43070e+04 3.36660e+04\n",
      " 3.28720e+04 3.24060e+04 3.28160e+04 3.20930e+04 3.22220e+04 3.23130e+04\n",
      " 3.18910e+04 3.16570e+04 3.12340e+04 3.09640e+04 3.09970e+04 3.08620e+04\n",
      " 3.05710e+04 3.11850e+04 3.13460e+04 3.17380e+04 3.15890e+04 3.30630e+04\n",
      " 3.43540e+04 3.52640e+04 3.62900e+04 3.76340e+04 3.86510e+04 4.04380e+04\n",
      " 4.30150e+04 4.40070e+04 4.55760e+04 4.50430e+04 4.61080e+04 4.83670e+04\n",
      " 5.27120e+04 6.00430e+04 6.65310e+04 1.95554e+05]\n",
      "[1765176.  247468.  259508.  266852.  274949.  283325.  292605.  303741.\n",
      "  343261.  337063.  322707.  340535.  388288.  428540.  435626.  429724.\n",
      "  414981.  401998.  391828.  382231.  367363.  352101.  338421.  327340.\n",
      "  321491.  316542.  309073.  296197.  283050.  268393.  253901.  242940.\n",
      "  232260.  224852.  217099.  210753.  205818.  201161.  197645.  196869.\n",
      "  194493.  196257.  196086.  195909.  195933.  195877.  193779.  190450.\n",
      "  185406.  181284.  176023.  171108.  166498.  162951.  157777.  152961.\n",
      "  148340.  143312.  138876.  135987.  132568.  128779.  126236.  122581.\n",
      "  119077.  115942.  112611.  109502.  104738.  100641.   97352.   93533.\n",
      "   90215.   87277.   84488.   82866.   80800.   78855.   76483.   75524.\n",
      "   73822.   72091.   70832.   69161.   67527.   65695.   64884.   63356.\n",
      "   61643.   60425.   58462.   57149.   55841.   54199.   52669.   51049.\n",
      "   49433.   47533.   46672.   45066.   43268.   42533.   41763.   40055.\n",
      "   39120.   38029.   36933.   36320.   35488.   34478.   33487.   32619.\n",
      "   32163.   31452.   30901.   30689.   30047.   29202.   28772.   28733.\n",
      "   27887.   27478.   27376.   26936.   26276.   26266.   25501.   25417.\n",
      "   25132.   24715.   24308.   23874.   23450.   23324.   22775.   23041.\n",
      "   22478.   22124.   21819.   21602.   21243.   21062.   21133.   20662.\n",
      "   20512.   20413.   20254.   20110.   20010.   19709.   19732.   19638.\n",
      "   19264.   19072.   18761.   18823.   18509.   18350.   18358.   18108.\n",
      "   17808.   17847.   17601.   17673.   17336.   17372.   17167.   17111.\n",
      "   16901.   16677.   16771.   16646.   16465.   16341.   16530.   16246.\n",
      "   16581.   16129.   16334.   16249.   15952.   16110.   15709.   15807.\n",
      "   15389.   15306.   15191.   15197.   15328.   15405.   15314.   15113.\n",
      "   15151.   15341.   15024.   14919.   14938.   15021.   14985.   15323.\n",
      "   15015.   15200.   14949.   14936.   15104.   14940.   15234.   15278.\n",
      "   15518.   15595.   15633.   16042.   16160.   16489.   16584.   16511.\n",
      "   16737.   16992.   17375.   17030.   17816.   17997.   18269.   18732.\n",
      "   19115.   19635.   19282.   19867.   20406.   20202.   21284.   21304.\n",
      "   22142.   21795.   22871.   22908.   24150.   24805.   23094.   25096.\n",
      "   24361.   26550.   26104.   29045.   29700.   28726.   31523.   30042.\n",
      "   33382.   28977.   35948.   42785.   31863.   46990.   31877.  197614.]\n"
     ]
    }
   ],
   "source": [
    "yr = r_hist(img)\n",
    "yg = g_hist(img)\n",
    "yb = b_hist(img)"
   ]
  },
  {
   "cell_type": "code",
   "execution_count": 26,
   "metadata": {},
   "outputs": [
    {
     "data": {
      "text/plain": [
       "[<matplotlib.lines.Line2D at 0x26811a39988>]"
      ]
     },
     "execution_count": 26,
     "metadata": {},
     "output_type": "execute_result"
    },
    {
     "data": {
      "image/png": "[encoded data removed]",
      "text/plain": [
       "<Figure size 432x288 with 1 Axes>"
      ]
     },
     "metadata": {
      "needs_background": "light"
     },
     "output_type": "display_data"
    }
   ],
   "source": [
    "plt.plot(x,yr,color=\"red\")"
   ]
  },
  {
   "cell_type": "code",
   "execution_count": 27,
   "metadata": {},
   "outputs": [
    {
     "data": {
      "text/plain": [
       "[<matplotlib.lines.Line2D at 0x26811e0e9c8>]"
      ]
     },
     "execution_count": 27,
     "metadata": {},
     "output_type": "execute_result"
    },
    {
     "data": {
      "image/png": "[encoded data removed]",
      "text/plain": [
       "<Figure size 432x288 with 1 Axes>"
      ]
     },
     "metadata": {
      "needs_background": "light"
     },
     "output_type": "display_data"
    }
   ],
   "source": [
    "plt.plot(x,yg,color=\"green\")"
   ]
  },
  {
   "cell_type": "code",
   "execution_count": 28,
   "metadata": {},
   "outputs": [
    {
     "data": {
      "text/plain": [
       "[<matplotlib.lines.Line2D at 0x26811e03148>]"
      ]
     },
     "execution_count": 28,
     "metadata": {},
     "output_type": "execute_result"
    },
    {
     "data": {
      "image/png": "[encoded data removed]",
      "text/plain": [
       "<Figure size 432x288 with 1 Axes>"
      ]
     },
     "metadata": {
      "needs_background": "light"
     },
     "output_type": "display_data"
    }
   ],
   "source": [
    "plt.plot(x,yb,color=\"blue\")"
   ]
  },
  {
   "cell_type": "code",
   "execution_count": 30,
   "metadata": {},
   "outputs": [],
   "source": [
    "path_t = \"ori.jpg\"\n",
    "img_t = mp.imread(path_t)\n",
    "yrt = r_hist(img_t)\n",
    "ygt = g_hist(img_t)\n",
    "ybt = b_hist(img_t)"
   ]
  },
  {
   "cell_type": "code",
   "execution_count": 31,
   "metadata": {},
   "outputs": [
    {
     "data": {
      "text/plain": [
       "[<matplotlib.lines.Line2D at 0x268110d4708>]"
      ]
     },
     "execution_count": 31,
     "metadata": {},
     "output_type": "execute_result"
    },
    {
     "data": {
      "image/png": "[encoded data removed]",
      "text/plain": [
       "<Figure size 432x288 with 1 Axes>"
      ]
     },
     "metadata": {
      "needs_background": "light"
     },
     "output_type": "display_data"
    }
   ],
   "source": [
    "plt.plot(x,yrt,color=\"red\")"
   ]
  },
  {
   "cell_type": "code",
   "execution_count": 32,
   "metadata": {},
   "outputs": [
    {
     "data": {
      "text/plain": [
       "[<matplotlib.lines.Line2D at 0x268123555c8>]"
      ]
     },
     "execution_count": 32,
     "metadata": {},
     "output_type": "execute_result"
    },
    {
     "data": {
      "image/png": "[encoded data removed]",
      "text/plain": [
       "<Figure size 432x288 with 1 Axes>"
      ]
     },
     "metadata": {
      "needs_background": "light"
     },
     "output_type": "display_data"
    }
   ],
   "source": [
    "plt.plot(x,ygt,color=\"red\")"
   ]
  },
  {
   "cell_type": "code",
   "execution_count": 33,
   "metadata": {},
   "outputs": [
    {
     "data": {
      "text/plain": [
       "[<matplotlib.lines.Line2D at 0x268123a9148>]"
      ]
     },
     "execution_count": 33,
     "metadata": {},
     "output_type": "execute_result"
    },
    {
     "data": {
      "image/png": "[encoded data removed]",
      "text/plain": [
       "<Figure size 432x288 with 1 Axes>"
      ]
     },
     "metadata": {
      "needs_background": "light"
     },
     "output_type": "display_data"
    }
   ],
   "source": [
    "plt.plot(x,ybt,color=\"red\")"
   ]
  },
  {
   "cell_type": "code",
   "execution_count": null,
   "metadata": {},
   "outputs": [],
   "source": []
  }
 ],
 "metadata": {
  "kernelspec": {
   "display_name": "Python 3",
   "language": "python",
   "name": "python3"
  },
  "language_info": {
   "codemirror_mode": {
    "name": "ipython",
    "version": 3
   },
   "file_extension": ".py",
   "mimetype": "text/x-python",
   "name": "python",
   "nbconvert_exporter": "python",
   "pygments_lexer": "ipython3",
   "version": "3.7.4"
  }
 },
 "nbformat": 4,
 "nbformat_minor": 2
}
